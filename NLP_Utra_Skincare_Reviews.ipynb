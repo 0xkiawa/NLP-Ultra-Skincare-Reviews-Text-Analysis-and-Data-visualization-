{
  "nbformat": 4,
  "nbformat_minor": 0,
  "metadata": {
    "colab": {
      "provenance": [],
      "mount_file_id": "1dEI3vBwua3cF-K7ZrAifqUFcNpY6-Lnz",
      "authorship_tag": "ABX9TyMjB0vLCzvYOZUX/b7ZI1Zk",
      "include_colab_link": true
    },
    "kernelspec": {
      "name": "python3",
      "display_name": "Python 3"
    },
    "language_info": {
      "name": "python"
    }
  },
  "cells": [
    {
      "cell_type": "markdown",
      "metadata": {
        "id": "view-in-github",
        "colab_type": "text"
      },
      "source": [
        "<a href=\"https://colab.research.google.com/github/vurner/wawa/blob/master/NLP_Utra_Skincare_Reviews.ipynb\" target=\"_parent\"><img src=\"https://colab.research.google.com/assets/colab-badge.svg\" alt=\"Open In Colab\"/></a>"
      ]
    },
    {
      "cell_type": "markdown",
      "source": [
        "# **Importing Dependancies Libraries**\n",
        "**Pandas**\n",
        "Pandas is a Python library for data manipulation and analysis, providing easy-to-use data structures for complex data tasks such as cleaning, selection, transformation, and analysis.\n",
        "\n",
        "**re**The re library in Python enables users to work with regular expressions for pattern matching and text processing tasks, such as data cleaning, information extraction, and input validation.\n",
        "\n",
        " **matplotlib** Python library for creating high-quality data visualizations such as line, bar, and scatter plots, histograms, and heatmaps, making it ideal for exploratory data analysis and presentation\n",
        "\n",
        " **operator**The operator library in Python provides efficient and concise functions that can replace common operators such as +, -, *, and /,, useful for sorting, filtering and transforming complex data structures\n",
        "\n",
        " **nltk** The NLTK (Natural Language Toolkit) library in Python is used for natural language processing tasks, such as tokenization, stemming, tagging, and sentiment analysis, making it ideal for analyzing text data.\n",
        "\n",
        " **collections** The collections library in Python provides specialized container datatypes such as named tuples, ordered dictionaries, counters, and deques, useful for tasks such as data counting, sorting, and manipulation.\n",
        "\n",
        " **textblob** Python library used for natural language processing, providing tools for tasks such as sentiment analysis, part-of-speech tagging, and noun phrase extraction, making it useful for text analysis.\n",
        "\n",
        "\n",
        "\n",
        "\n",
        "\n",
        "\n",
        "\n"
      ],
      "metadata": {
        "id": "c5VgcQgkmkGx"
      }
    },
    {
      "cell_type": "code",
      "execution_count": 9,
      "metadata": {
        "id": "sN0pQjO9VYia"
      },
      "outputs": [],
      "source": [
        "#importing necessary libraries\n",
        "import pandas as pd\n",
        "import re\n",
        "from matplotlib import pyplot as plt\n",
        "import operator\n",
        "\n",
        "import nltk\n",
        "from nltk.corpus import stopwords\n",
        "\n",
        "import collections\n",
        "from collections import OrderedDict\n",
        "from collections import Counter\n",
        "\n",
        "from textblob import TextBlob\n",
        "from textblob.classifiers import NaiveBayesClassifier\n",
        "\n",
        "\n",
        "\n",
        "\n"
      ]
    },
    {
      "cell_type": "markdown",
      "source": [
        "# **Google Drive Mounting**\n",
        "\n",
        "Mounting my google drive to the collab having saved my csv file in the google drive for accessibilty."
      ],
      "metadata": {
        "id": "x92u4aeU-yKf"
      }
    },
    {
      "cell_type": "code",
      "source": [
        "#mount google drive to the google collab\n",
        "from google.colab import drive\n",
        "\n",
        "drive.mount('/content/drive')"
      ],
      "metadata": {
        "id": "ij7wF2CTs47G",
        "colab": {
          "base_uri": "https://localhost:8080/"
        },
        "outputId": "279bfa01-fdea-4f8f-8602-ce65c4baf017"
      },
      "execution_count": null,
      "outputs": [
        {
          "output_type": "stream",
          "name": "stdout",
          "text": [
            "Drive already mounted at /content/drive; to attempt to forcibly remount, call drive.mount(\"/content/drive\", force_remount=True).\n"
          ]
        }
      ]
    },
    {
      "cell_type": "markdown",
      "source": [
        "# **Loading and manipulation in the pandas Dataframe**\n",
        "Loading my working  dataset from my google drive in csv formart.I wil check the missing values or null values and return the sum where the boolean is True(which represent missing or null values in eah colunm) then replace the missing or null values with the\"unknow\"value."
      ],
      "metadata": {
        "id": "JFA8kftWGmhc"
      }
    },
    {
      "cell_type": "code",
      "source": [
        "#load the dataset in csv format from the google drive\n",
        "df=pd.read_csv('/content/drive/MyDrive/Ulta Skincare Reviews.csv')\n",
        "df.head(3)"
      ],
      "metadata": {
        "colab": {
          "base_uri": "https://localhost:8080/",
          "height": 240
        },
        "id": "10qHB7eN5NFJ",
        "outputId": "56fdb034-48f8-41c0-e837-17cac1a96073"
      },
      "execution_count": 17,
      "outputs": [
        {
          "output_type": "execute_result",
          "data": {
            "text/plain": [
              "    Review_Title                                        Review_Text  \\\n",
              "0        Perfect  Love using this on my face while in the shower...   \n",
              "1  You need this  Even better than the daily microfoliant. I'm o...   \n",
              "2     Clean skin  Enjoy this product so much ! I look forward to...   \n",
              "\n",
              "  Verified_Buyer   Review_Date Review_Location  Review_Upvotes  \\\n",
              "0             No   15 days ago     Undisclosed               0   \n",
              "1             No   27 days ago     Undisclosed               0   \n",
              "2             No  2 months ago     Undisclosed               0   \n",
              "\n",
              "   Review_Downvotes                      Product        Brand Scrape_Date  \n",
              "0                 0  Multi-Vitamin Thermafoliant  Dermalogica     3/27/23  \n",
              "1                 0  Multi-Vitamin Thermafoliant  Dermalogica     3/27/23  \n",
              "2                 0  Multi-Vitamin Thermafoliant  Dermalogica     3/27/23  "
            ],
            "text/html": [
              "\n",
              "  <div id=\"df-1183c863-81ef-4a59-9389-44c4a8de5ddf\">\n",
              "    <div class=\"colab-df-container\">\n",
              "      <div>\n",
              "<style scoped>\n",
              "    .dataframe tbody tr th:only-of-type {\n",
              "        vertical-align: middle;\n",
              "    }\n",
              "\n",
              "    .dataframe tbody tr th {\n",
              "        vertical-align: top;\n",
              "    }\n",
              "\n",
              "    .dataframe thead th {\n",
              "        text-align: right;\n",
              "    }\n",
              "</style>\n",
              "<table border=\"1\" class=\"dataframe\">\n",
              "  <thead>\n",
              "    <tr style=\"text-align: right;\">\n",
              "      <th></th>\n",
              "      <th>Review_Title</th>\n",
              "      <th>Review_Text</th>\n",
              "      <th>Verified_Buyer</th>\n",
              "      <th>Review_Date</th>\n",
              "      <th>Review_Location</th>\n",
              "      <th>Review_Upvotes</th>\n",
              "      <th>Review_Downvotes</th>\n",
              "      <th>Product</th>\n",
              "      <th>Brand</th>\n",
              "      <th>Scrape_Date</th>\n",
              "    </tr>\n",
              "  </thead>\n",
              "  <tbody>\n",
              "    <tr>\n",
              "      <th>0</th>\n",
              "      <td>Perfect</td>\n",
              "      <td>Love using this on my face while in the shower...</td>\n",
              "      <td>No</td>\n",
              "      <td>15 days ago</td>\n",
              "      <td>Undisclosed</td>\n",
              "      <td>0</td>\n",
              "      <td>0</td>\n",
              "      <td>Multi-Vitamin Thermafoliant</td>\n",
              "      <td>Dermalogica</td>\n",
              "      <td>3/27/23</td>\n",
              "    </tr>\n",
              "    <tr>\n",
              "      <th>1</th>\n",
              "      <td>You need this</td>\n",
              "      <td>Even better than the daily microfoliant. I'm o...</td>\n",
              "      <td>No</td>\n",
              "      <td>27 days ago</td>\n",
              "      <td>Undisclosed</td>\n",
              "      <td>0</td>\n",
              "      <td>0</td>\n",
              "      <td>Multi-Vitamin Thermafoliant</td>\n",
              "      <td>Dermalogica</td>\n",
              "      <td>3/27/23</td>\n",
              "    </tr>\n",
              "    <tr>\n",
              "      <th>2</th>\n",
              "      <td>Clean skin</td>\n",
              "      <td>Enjoy this product so much ! I look forward to...</td>\n",
              "      <td>No</td>\n",
              "      <td>2 months ago</td>\n",
              "      <td>Undisclosed</td>\n",
              "      <td>0</td>\n",
              "      <td>0</td>\n",
              "      <td>Multi-Vitamin Thermafoliant</td>\n",
              "      <td>Dermalogica</td>\n",
              "      <td>3/27/23</td>\n",
              "    </tr>\n",
              "  </tbody>\n",
              "</table>\n",
              "</div>\n",
              "      <button class=\"colab-df-convert\" onclick=\"convertToInteractive('df-1183c863-81ef-4a59-9389-44c4a8de5ddf')\"\n",
              "              title=\"Convert this dataframe to an interactive table.\"\n",
              "              style=\"display:none;\">\n",
              "        \n",
              "  <svg xmlns=\"http://www.w3.org/2000/svg\" height=\"24px\"viewBox=\"0 0 24 24\"\n",
              "       width=\"24px\">\n",
              "    <path d=\"M0 0h24v24H0V0z\" fill=\"none\"/>\n",
              "    <path d=\"M18.56 5.44l.94 2.06.94-2.06 2.06-.94-2.06-.94-.94-2.06-.94 2.06-2.06.94zm-11 1L8.5 8.5l.94-2.06 2.06-.94-2.06-.94L8.5 2.5l-.94 2.06-2.06.94zm10 10l.94 2.06.94-2.06 2.06-.94-2.06-.94-.94-2.06-.94 2.06-2.06.94z\"/><path d=\"M17.41 7.96l-1.37-1.37c-.4-.4-.92-.59-1.43-.59-.52 0-1.04.2-1.43.59L10.3 9.45l-7.72 7.72c-.78.78-.78 2.05 0 2.83L4 21.41c.39.39.9.59 1.41.59.51 0 1.02-.2 1.41-.59l7.78-7.78 2.81-2.81c.8-.78.8-2.07 0-2.86zM5.41 20L4 18.59l7.72-7.72 1.47 1.35L5.41 20z\"/>\n",
              "  </svg>\n",
              "      </button>\n",
              "      \n",
              "  <style>\n",
              "    .colab-df-container {\n",
              "      display:flex;\n",
              "      flex-wrap:wrap;\n",
              "      gap: 12px;\n",
              "    }\n",
              "\n",
              "    .colab-df-convert {\n",
              "      background-color: #E8F0FE;\n",
              "      border: none;\n",
              "      border-radius: 50%;\n",
              "      cursor: pointer;\n",
              "      display: none;\n",
              "      fill: #1967D2;\n",
              "      height: 32px;\n",
              "      padding: 0 0 0 0;\n",
              "      width: 32px;\n",
              "    }\n",
              "\n",
              "    .colab-df-convert:hover {\n",
              "      background-color: #E2EBFA;\n",
              "      box-shadow: 0px 1px 2px rgba(60, 64, 67, 0.3), 0px 1px 3px 1px rgba(60, 64, 67, 0.15);\n",
              "      fill: #174EA6;\n",
              "    }\n",
              "\n",
              "    [theme=dark] .colab-df-convert {\n",
              "      background-color: #3B4455;\n",
              "      fill: #D2E3FC;\n",
              "    }\n",
              "\n",
              "    [theme=dark] .colab-df-convert:hover {\n",
              "      background-color: #434B5C;\n",
              "      box-shadow: 0px 1px 3px 1px rgba(0, 0, 0, 0.15);\n",
              "      filter: drop-shadow(0px 1px 2px rgba(0, 0, 0, 0.3));\n",
              "      fill: #FFFFFF;\n",
              "    }\n",
              "  </style>\n",
              "\n",
              "      <script>\n",
              "        const buttonEl =\n",
              "          document.querySelector('#df-1183c863-81ef-4a59-9389-44c4a8de5ddf button.colab-df-convert');\n",
              "        buttonEl.style.display =\n",
              "          google.colab.kernel.accessAllowed ? 'block' : 'none';\n",
              "\n",
              "        async function convertToInteractive(key) {\n",
              "          const element = document.querySelector('#df-1183c863-81ef-4a59-9389-44c4a8de5ddf');\n",
              "          const dataTable =\n",
              "            await google.colab.kernel.invokeFunction('convertToInteractive',\n",
              "                                                     [key], {});\n",
              "          if (!dataTable) return;\n",
              "\n",
              "          const docLinkHtml = 'Like what you see? Visit the ' +\n",
              "            '<a target=\"_blank\" href=https://colab.research.google.com/notebooks/data_table.ipynb>data table notebook</a>'\n",
              "            + ' to learn more about interactive tables.';\n",
              "          element.innerHTML = '';\n",
              "          dataTable['output_type'] = 'display_data';\n",
              "          await google.colab.output.renderOutput(dataTable, element);\n",
              "          const docLink = document.createElement('div');\n",
              "          docLink.innerHTML = docLinkHtml;\n",
              "          element.appendChild(docLink);\n",
              "        }\n",
              "      </script>\n",
              "    </div>\n",
              "  </div>\n",
              "  "
            ]
          },
          "metadata": {},
          "execution_count": 17
        }
      ]
    },
    {
      "cell_type": "code",
      "source": [
        "#count the number of missing or null vlues in the pandas Dataframe\n",
        "df.isna().sum()"
      ],
      "metadata": {
        "colab": {
          "base_uri": "https://localhost:8080/"
        },
        "id": "cycZHTn2BTlH",
        "outputId": "73ce9b6a-7a56-42dc-fff9-af220ae9ffd1"
      },
      "execution_count": 14,
      "outputs": [
        {
          "output_type": "execute_result",
          "data": {
            "text/plain": [
              "Review_Title        0\n",
              "Review_Text         2\n",
              "Verified_Buyer      0\n",
              "Review_Date         0\n",
              "Review_Location     1\n",
              "Review_Upvotes      0\n",
              "Review_Downvotes    0\n",
              "Product             0\n",
              "Brand               0\n",
              "Scrape_Date         0\n",
              "dtype: int64"
            ]
          },
          "metadata": {},
          "execution_count": 14
        }
      ]
    },
    {
      "cell_type": "code",
      "source": [
        "#replacing missing values or null values in the pandas Dataframe with the \"unknown \"value\n",
        "df.fillna('Unknown', inplace=True)"
      ],
      "metadata": {
        "id": "gvcTkkAqB8eB"
      },
      "execution_count": 18,
      "outputs": []
    },
    {
      "cell_type": "markdown",
      "source": [
        "# **Text cleaning**\n",
        "Here we will clean the review text.First we will convert the text into lowercase,remove stopwords and some puntuations."
      ],
      "metadata": {
        "id": "DcCRMrsIFRwg"
      }
    },
    {
      "cell_type": "code",
      "source": [
        "#downloading package for stopwords\n",
        "nltk.download('stopwords')"
      ],
      "metadata": {
        "colab": {
          "base_uri": "https://localhost:8080/"
        },
        "id": "boipfmWhKk96",
        "outputId": "c90435ec-7663-4291-d3e4-e05f4353e6ff"
      },
      "execution_count": 20,
      "outputs": [
        {
          "output_type": "stream",
          "name": "stderr",
          "text": [
            "[nltk_data] Downloading package stopwords to /root/nltk_data...\n",
            "[nltk_data]   Unzipping corpora/stopwords.zip.\n"
          ]
        },
        {
          "output_type": "execute_result",
          "data": {
            "text/plain": [
              "True"
            ]
          },
          "metadata": {},
          "execution_count": 20
        }
      ]
    },
    {
      "cell_type": "code",
      "source": [
        "stop = stopwords.words('english')\n",
        "#convert the review text in the 'Review_Text'column into lowercase and now becomes 'Review_Text_Lower'variable.\n",
        "df['Review_Text_Lower'] = df['Review_Text'].apply(lambda x: x.lower())\n",
        "#removing stopwords from the Review_Text_Lower variable and it becomes Review_Text_NoSw variable.\n",
        "df['Review_Text_NoSw'] = df['Review_Text_Lower'].apply(lambda x: ' '.join([word for word in x.split() if word not in (stop)]))\n",
        "#removing some of the punctuations from the Review_Text_NoSw variable and it becomes Clean_Text variable.\n",
        "df['Clean_Text'] = df['Review_Text_NoSw'].apply(lambda x: re.sub('[^\\w\\s]', \"\", x))"
      ],
      "metadata": {
        "id": "jqMB9yaaFQDr"
      },
      "execution_count": 22,
      "outputs": []
    },
    {
      "cell_type": "markdown",
      "source": [
        "# **Text tokenization**\n",
        "Here we wll tokenize our review text and extract common word collocations and words that frequently appear together"
      ],
      "metadata": {
        "id": "RdHfNau5NQTf"
      }
    },
    {
      "cell_type": "code",
      "source": [
        "#downloading package for word tokenization\n",
        "nltk.download('punkt')"
      ],
      "metadata": {
        "colab": {
          "base_uri": "https://localhost:8080/"
        },
        "id": "fexiDpmsOWHp",
        "outputId": "65813531-8692-46ad-f9da-b6a3aa9eabc3"
      },
      "execution_count": 24,
      "outputs": [
        {
          "output_type": "stream",
          "name": "stderr",
          "text": [
            "[nltk_data] Downloading package punkt to /root/nltk_data...\n",
            "[nltk_data]   Unzipping tokenizers/punkt.zip.\n"
          ]
        },
        {
          "output_type": "execute_result",
          "data": {
            "text/plain": [
              "True"
            ]
          },
          "metadata": {},
          "execution_count": 24
        }
      ]
    },
    {
      "cell_type": "code",
      "source": [
        "df[\"Tokenized_Text\"] = df[\"Clean_Text\"].apply(nltk.word_tokenize)\n",
        "df['NLTK_Text'] = df['Tokenized_Text'].apply(nltk.Text)"
      ],
      "metadata": {
        "id": "meeKdo3bOJws"
      },
      "execution_count": 25,
      "outputs": []
    },
    {
      "cell_type": "markdown",
      "source": [
        "# **Text Frequency**\n",
        "# **Most common words**\n",
        "We will extract common words and phrases.We will startby extracting common words "
      ],
      "metadata": {
        "id": "Lnl_TGojO8qt"
      }
    },
    {
      "cell_type": "code",
      "source": [
        "#count the frequency of the common words in the preprocessed text data column  dataframe 'Clean_Text'\n",
        "Counter(\" \".join(df['Clean_Text']).split()).most_common(25)"
      ],
      "metadata": {
        "colab": {
          "base_uri": "https://localhost:8080/"
        },
        "id": "dADga8UJQhNI",
        "outputId": "c06d96d7-3942-4502-9dea-d46c5e630faf"
      },
      "execution_count": 26,
      "outputs": [
        {
          "output_type": "execute_result",
          "data": {
            "text/plain": [
              "[('skin', 5429),\n",
              " ('product', 2618),\n",
              " ('use', 1848),\n",
              " ('face', 1344),\n",
              " ('love', 1294),\n",
              " ('using', 1260),\n",
              " ('smooth', 980),\n",
              " ('great', 934),\n",
              " ('soft', 868),\n",
              " ('like', 842),\n",
              " ('used', 789),\n",
              " ('feel', 774),\n",
              " ('it', 764),\n",
              " ('really', 684),\n",
              " ('feeling', 663),\n",
              " ('clean', 638),\n",
              " ('leaves', 634),\n",
              " ('dermalogica', 632),\n",
              " ('one', 630),\n",
              " ('daily', 629),\n",
              " ('ive', 628),\n",
              " ('gentle', 611),\n",
              " ('feels', 609),\n",
              " ('dry', 607),\n",
              " ('time', 538)]"
            ]
          },
          "metadata": {},
          "execution_count": 26
        }
      ]
    },
    {
      "cell_type": "markdown",
      "source": [
        "# **Biagram collection**\n",
        "Here we will generate most common biagrams detect in the reviews for the Multi-Vitamin Thermafoliant product.\n"
      ],
      "metadata": {
        "id": "rogTTc4LWjst"
      }
    },
    {
      "cell_type": "code",
      "source": [
        "#create new dataframe'mvt' containing the original rows of the column\"Product\" where == \"Multi-Vitamin Thermafoliant\".\n",
        "mvt = df.query('Product == \"Multi-Vitamin Thermafoliant\"')"
      ],
      "metadata": {
        "id": "g-z3_z5ZRwe0"
      },
      "execution_count": 33,
      "outputs": []
    },
    {
      "cell_type": "code",
      "source": [
        "#create a list of of the top 15 most common bigrams in the \"NLTK_Text\" column of the mvt DataFrame.\n",
        "bigrams = collections.Counter()\n",
        "for phrase in mvt[\"NLTK_Text\"]:\n",
        "    try:\n",
        "        bigrams.update(nltk.bigrams(phrase))\n",
        "    except StopIteration:\n",
        "        # Handle the end of the iterator\n",
        "        print(\"End of iterator\")\n",
        "    \n",
        "bigrams_sorted = sorted(bigrams.items(),key=operator.itemgetter(1),reverse=True)\n",
        "bigrams_sorted[0:15]"
      ],
      "metadata": {
        "colab": {
          "base_uri": "https://localhost:8080/"
        },
        "id": "qlw5L72zR0jr",
        "outputId": "4ccc7569-e071-4412-bdd7-19dfe090bcef"
      },
      "execution_count": 34,
      "outputs": [
        {
          "output_type": "execute_result",
          "data": {
            "text/plain": [
              "[(('leaves', 'skin'), 29),\n",
              " (('makes', 'skin'), 29),\n",
              " (('skin', 'feels'), 28),\n",
              " (('times', 'week'), 28),\n",
              " (('love', 'product'), 24),\n",
              " (('love', 'it'), 17),\n",
              " (('warming', 'sensation'), 17),\n",
              " (('skin', 'feel'), 17),\n",
              " (('soft', 'smooth'), 16),\n",
              " (('use', 'product'), 15),\n",
              " (('dry', 'skin'), 15),\n",
              " (('skin', 'soft'), 14),\n",
              " (('skin', 'feeling'), 13),\n",
              " (('ive', 'used'), 13),\n",
              " (('twice', 'week'), 11)]"
            ]
          },
          "metadata": {},
          "execution_count": 34
        }
      ]
    },
    {
      "cell_type": "code",
      "source": [
        "#create a list called \"feeling_reviews\"and populating it with biagrams that have the word \"feeling\" in the first position of the biagram\n",
        "feeling_reviews = []\n",
        "\n",
        "for bigram in bigrams_sorted:\n",
        "    if 'feeling' in bigram[0][0]:\n",
        "        feeling_reviews.append(bigram)\n",
        "        \n",
        "feeling_reviews[0:15]"
      ],
      "metadata": {
        "colab": {
          "base_uri": "https://localhost:8080/"
        },
        "id": "2f0_uC-GUuQm",
        "outputId": "51df2a44-c2f0-450b-adae-31cf79cd0de2"
      },
      "execution_count": 30,
      "outputs": [
        {
          "output_type": "execute_result",
          "data": {
            "text/plain": [
              "[(('feeling', 'soft'), 6),\n",
              " (('feeling', 'smooth'), 4),\n",
              " (('feeling', 'silky'), 2),\n",
              " (('feeling', 'like'), 2),\n",
              " (('feeling', 'clean'), 2),\n",
              " (('feeling', 'skin'), 2),\n",
              " (('feeling', 'scrub'), 2),\n",
              " (('feeling', 'warmth'), 1),\n",
              " (('feeling', 'get'), 1),\n",
              " (('feeling', 'pretty'), 1),\n",
              " (('feeling', 'amazingly'), 1),\n",
              " (('feeling', 'smell'), 1),\n",
              " (('feeling', 'normal'), 1),\n",
              " (('feeling', 'cleaner'), 1),\n",
              " (('feeling', 'wonderful'), 1)]"
            ]
          },
          "metadata": {},
          "execution_count": 30
        }
      ]
    },
    {
      "cell_type": "code",
      "source": [
        " #creating a new DataFrame called df_feeling_bg that contains the bigrams that include the word \"feeling\" and their corresponding frequencies.\n",
        "feeling_bigram = []\n",
        "feeling_freq = []\n",
        "\n",
        "for review in feeling_reviews:\n",
        "    if review[1] >= 2:\n",
        "        feeling_freq.append(review[1])\n",
        "        feeling_bigram.append(' '.join(review[0]))\n",
        "    \n",
        "df_feeling_bg = pd.DataFrame({'Bigram':feeling_bigram, 'Frequency':feeling_freq})\n",
        "    "
      ],
      "metadata": {
        "id": "GsneIEdAVQrT"
      },
      "execution_count": 35,
      "outputs": []
    },
    {
      "cell_type": "code",
      "source": [
        "plt.bar(df_feeling_bg['Bigram'], height=df_feeling_bg['Frequency'])\n",
        "plt.title('Bigrams Using the Word Feeling: Frequencies 2+')\n",
        "plt.xticks(rotation=90)"
      ],
      "metadata": {
        "colab": {
          "base_uri": "https://localhost:8080/",
          "height": 681
        },
        "id": "ngLL4FzEVoN8",
        "outputId": "684a005a-7313-437b-84d9-ada88f98a419"
      },
      "execution_count": 32,
      "outputs": [
        {
          "output_type": "execute_result",
          "data": {
            "text/plain": [
              "([0, 1, 2, 3, 4, 5, 6],\n",
              " [Text(0, 0, 'feeling soft'),\n",
              "  Text(1, 0, 'feeling smooth'),\n",
              "  Text(2, 0, 'feeling silky'),\n",
              "  Text(3, 0, 'feeling like'),\n",
              "  Text(4, 0, 'feeling clean'),\n",
              "  Text(5, 0, 'feeling skin'),\n",
              "  Text(6, 0, 'feeling scrub')])"
            ]
          },
          "metadata": {},
          "execution_count": 32
        },
        {
          "output_type": "display_data",
          "data": {
            "text/plain": [
              "<Figure size 640x480 with 1 Axes>"
            ],
            "image/png": "[encoded data removed]"
          },
          "metadata": {}
        }
      ]
    },
    {
      "cell_type": "markdown",
      "source": [
        "# **Biagrams Graph Summary**\n",
        "from the '**feeling**'and '**leaves**'plotted graph you can see most of the reviews said that the product **leaves** them **feeling** **soft** followed by **smooth**,**silk** and **clean**."
      ],
      "metadata": {
        "id": "r_e0BvHmfEJc"
      }
    },
    {
      "cell_type": "markdown",
      "source": [
        "# **Tigram Collection**\n",
        "For more specific information from the reviews,we will generate tigrams from the reviews of the product a year ago"
      ],
      "metadata": {
        "id": "Ag_9QUA8gPpq"
      }
    },
    {
      "cell_type": "code",
      "source": [
        "mvt_1year = mvt.query('Review_Date == \"1 year ago\"')"
      ],
      "metadata": {
        "id": "VmJwqzmwhBsu"
      },
      "execution_count": 36,
      "outputs": []
    },
    {
      "cell_type": "code",
      "source": [
        "trigrams = collections.Counter()\n",
        "for phrase in mvt_1year['NLTK_Text']:\n",
        "    trigrams.update(nltk.trigrams(phrase))\n",
        "    \n",
        "trigrams_sorted = sorted(trigrams.items(),key=operator.itemgetter(1),reverse=True)\n",
        "trigrams_sorted[0:15]"
      ],
      "metadata": {
        "colab": {
          "base_uri": "https://localhost:8080/"
        },
        "id": "jNoIDl29hxkt",
        "outputId": "3d65bd25-1430-4286-c14b-36517286b5a2"
      },
      "execution_count": 37,
      "outputs": [
        {
          "output_type": "execute_result",
          "data": {
            "text/plain": [
              "[(('skin', 'feeling', 'soft'), 2),\n",
              " (('dead', 'skin', 'cells'), 2),\n",
              " (('skin', 'feels', 'smooth'), 2),\n",
              " (('makes', 'skin', 'feel'), 2),\n",
              " (('scrub', 'helped', 'lot'), 1),\n",
              " (('helped', 'lot', 'clean'), 1),\n",
              " (('lot', 'clean', 'skin'), 1),\n",
              " (('clean', 'skin', 'excess'), 1),\n",
              " (('skin', 'excess', 'sebum'), 1),\n",
              " (('best', 'face', 'scrub'), 1),\n",
              " (('face', 'scrub', 'sensitive'), 1),\n",
              " (('scrub', 'sensitive', 'skin'), 1),\n",
              " (('id', 'like', 'cancel'), 1),\n",
              " (('like', 'cancel', 'recurring'), 1),\n",
              " (('cancel', 'recurring', 'shipment'), 1)]"
            ]
          },
          "metadata": {},
          "execution_count": 37
        }
      ]
    },
    {
      "cell_type": "code",
      "source": [
        "feel_reviews_tr = []\n",
        "\n",
        "for trigram in trigrams_sorted:\n",
        "    if 'feel' in trigram[0][0]:\n",
        "        feel_reviews_tr.append(trigram)"
      ],
      "metadata": {
        "id": "CXg_ftI4iPeV"
      },
      "execution_count": 38,
      "outputs": []
    },
    {
      "cell_type": "code",
      "source": [
        "feel_trigram = []\n",
        "feel_freq_tr = []\n",
        "\n",
        "for review in feel_reviews_tr[0:15]:\n",
        "    feel_freq_tr.append(review[1])\n",
        "    feel_trigram.append(' '.join(review[0]))\n",
        "    \n",
        "df_feel_tr = pd.DataFrame({'Trigram':feel_trigram, 'Frequency':feel_freq_tr})\n",
        "\n",
        "plt.bar(df_feel_tr['Trigram'], height=df_feel_tr['Frequency'])\n",
        "plt.title('Trigrams Using the Word Feel')\n",
        "plt.xticks(rotation=90)"
      ],
      "metadata": {
        "colab": {
          "base_uri": "https://localhost:8080/",
          "height": 878
        },
        "id": "dcHnl8zSi8hQ",
        "outputId": "33866b56-d675-4e23-b533-13fc37da183e"
      },
      "execution_count": 40,
      "outputs": [
        {
          "output_type": "execute_result",
          "data": {
            "text/plain": [
              "([0, 1, 2, 3, 4, 5, 6, 7, 8, 9, 10, 11, 12, 13, 14],\n",
              " [Text(0, 0, 'feel warmth product'),\n",
              "  Text(1, 0, 'feels really good'),\n",
              "  Text(2, 0, 'feel though see'),\n",
              "  Text(3, 0, 'feels amazing smells'),\n",
              "  Text(4, 0, 'feel warming sensation'),\n",
              "  Text(5, 0, 'feeling soft smell'),\n",
              "  Text(6, 0, 'feels smooth using'),\n",
              "  Text(7, 0, 'feeling like silk'),\n",
              "  Text(8, 0, 'feels soft great'),\n",
              "  Text(9, 0, 'feels strong peeling'),\n",
              "  Text(10, 0, 'feels toasty scrubby'),\n",
              "  Text(11, 0, 'feeling warmth leaves'),\n",
              "  Text(12, 0, 'feels amazing looks'),\n",
              "  Text(13, 0, 'feels leaving facial'),\n",
              "  Text(14, 0, 'feeling soft fresh')])"
            ]
          },
          "metadata": {},
          "execution_count": 40
        },
        {
          "output_type": "display_data",
          "data": {
            "text/plain": [
              "<Figure size 640x480 with 1 Axes>"
            ],
            "image/png": "[encoded data removed]"
          },
          "metadata": {}
        }
      ]
    },
    {
      "cell_type": "markdown",
      "source": [
        "# **Tigram Graph Summary**\n",
        "The trigram bar plot revealed that trigrams in the reviews from a year ago specified the product leaving skin **feeling** **soft**, **clean** and **like** **silk**. It also left a **feeling** of **warmth**."
      ],
      "metadata": {
        "id": "vTAbqX7elnVy"
      }
    }
  ]
}